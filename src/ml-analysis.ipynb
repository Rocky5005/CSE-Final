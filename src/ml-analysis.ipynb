{
 "cells": [
  {
   "cell_type": "code",
   "execution_count": 1,
   "metadata": {},
   "outputs": [],
   "source": [
    "from main import file_locate\n",
    "from mlmodels import logistic_regression\n",
    "from mlmodels import naive_bayes\n",
    "from mlmodels import k_nearest\n",
    "from mlmodels import support_vector\n",
    "from mlmodels import gradient_boost\n",
    "from mlmodels import random_forest"
   ]
  },
  {
   "cell_type": "code",
   "execution_count": 2,
   "metadata": {},
   "outputs": [],
   "source": [
    "file_locate('ml-analysis.ipynb')\n",
    "filename = 'cleaned-framingham.csv'"
   ]
  },
  {
   "cell_type": "code",
   "execution_count": 3,
   "metadata": {},
   "outputs": [
    {
     "name": "stdout",
     "output_type": "stream",
     "text": [
      "Logistic Regression\n",
      "[[615   6]\n",
      " [ 95  16]]\n",
      "Accuracy:  0.8620218579234973\n",
      "Classification Report:\n",
      "              precision    recall  f1-score   support\n",
      "\n",
      "           0       0.87      0.99      0.92       621\n",
      "           1       0.73      0.14      0.24       111\n",
      "\n",
      "    accuracy                           0.86       732\n",
      "   macro avg       0.80      0.57      0.58       732\n",
      "weighted avg       0.85      0.86      0.82       732\n",
      "\n"
     ]
    }
   ],
   "source": [
    "logistic_regression(filename)"
   ]
  },
  {
   "cell_type": "code",
   "execution_count": 4,
   "metadata": {},
   "outputs": [
    {
     "name": "stdout",
     "output_type": "stream",
     "text": [
      "Naive Bayes:\n",
      "[[614   7]\n",
      " [104   7]]\n",
      "Accuracy:  0.8483606557377049\n",
      "Classification Report:\n",
      "              precision    recall  f1-score   support\n",
      "\n",
      "           0       0.86      0.99      0.92       621\n",
      "           1       0.50      0.06      0.11       111\n",
      "\n",
      "    accuracy                           0.85       732\n",
      "   macro avg       0.68      0.53      0.51       732\n",
      "weighted avg       0.80      0.85      0.80       732\n",
      "\n"
     ]
    }
   ],
   "source": [
    "naive_bayes(filename)"
   ]
  },
  {
   "cell_type": "code",
   "execution_count": 5,
   "metadata": {},
   "outputs": [
    {
     "name": "stdout",
     "output_type": "stream",
     "text": [
      "K-Nearest Neighbors:\n",
      "[[590  31]\n",
      " [ 93  18]]\n",
      "Accuracy:  0.8306010928961749\n",
      "Classification Report:\n",
      "              precision    recall  f1-score   support\n",
      "\n",
      "           0       0.86      0.95      0.90       621\n",
      "           1       0.37      0.16      0.22       111\n",
      "\n",
      "    accuracy                           0.83       732\n",
      "   macro avg       0.62      0.56      0.56       732\n",
      "weighted avg       0.79      0.83      0.80       732\n",
      "\n"
     ]
    }
   ],
   "source": [
    "k_nearest(filename)"
   ]
  },
  {
   "cell_type": "code",
   "execution_count": null,
   "metadata": {},
   "outputs": [
    {
     "name": "stdout",
     "output_type": "stream",
     "text": [
      "XGBoost: \n",
      "[[586  35]\n",
      " [ 98  13]]\n",
      "Accuracy:  0.8183060109289617\n",
      "Classification Report:\n",
      "              precision    recall  f1-score   support\n",
      "\n",
      "           0       0.86      0.94      0.90       621\n",
      "           1       0.27      0.12      0.16       111\n",
      "\n",
      "    accuracy                           0.82       732\n",
      "   macro avg       0.56      0.53      0.53       732\n",
      "weighted avg       0.77      0.82      0.79       732\n",
      "\n"
     ]
    }
   ],
   "source": [
    "gradient_boost(filename)"
   ]
  },
  {
   "cell_type": "code",
   "execution_count": null,
   "metadata": {},
   "outputs": [
    {
     "name": "stdout",
     "output_type": "stream",
     "text": [
      "Random Forest\n",
      "[[611  10]\n",
      " [103   8]]\n",
      "Accuracy:  0.8456284153005464\n",
      "Classification Report:\n",
      "              precision    recall  f1-score   support\n",
      "\n",
      "           0       0.86      0.98      0.92       621\n",
      "           1       0.44      0.07      0.12       111\n",
      "\n",
      "    accuracy                           0.85       732\n",
      "   macro avg       0.65      0.53      0.52       732\n",
      "weighted avg       0.79      0.85      0.80       732\n",
      "\n"
     ]
    }
   ],
   "source": [
    "random_forest(filename)"
   ]
  }
 ],
 "metadata": {
  "kernelspec": {
   "display_name": "base",
   "language": "python",
   "name": "python3"
  },
  "language_info": {
   "codemirror_mode": {
    "name": "ipython",
    "version": 3
   },
   "file_extension": ".py",
   "mimetype": "text/x-python",
   "name": "python",
   "nbconvert_exporter": "python",
   "pygments_lexer": "ipython3",
   "version": "3.10.10"
  },
  "orig_nbformat": 4
 },
 "nbformat": 4,
 "nbformat_minor": 2
}
