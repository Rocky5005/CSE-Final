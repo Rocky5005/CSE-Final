{
 "cells": [
  {
   "cell_type": "code",
   "execution_count": 21,
   "metadata": {},
   "outputs": [],
   "source": [
    "#import statements\n",
    "import numpy as np\n",
    "import matplotlib.pyplot as plt\n",
    "import pandas as pd\n",
    "import os\n",
    "import sys"
   ]
  },
  {
   "cell_type": "code",
   "execution_count": 29,
   "metadata": {},
   "outputs": [
    {
     "name": "stdout",
     "output_type": "stream",
     "text": [
      "      lexam  surv  cause  cexam  chd  cva  ca  oth  sex  age     ht     wt  \\\n",
      "0        13     1      6      0    0    0   0    1    2   29  62.50  140.0   \n",
      "1         8     1      5      0    0    0   1    1    2   41  59.75  194.0   \n",
      "2        16     0      0      0    0    0   0    0    2   57  62.25  132.0   \n",
      "3        16     0      0      0    0    0   0    0    2   39  65.75  158.0   \n",
      "4        16     0      0      0    0    0   0    0    1   42  66.00  156.0   \n",
      "...     ...   ...    ...    ...  ...  ...  ..  ...  ...  ...    ...    ...   \n",
      "5204     16     1      2     16    1    0   0    0    1   49  64.50  173.0   \n",
      "5205     16     0      0      0    0    0   0    0    2   42  60.00  141.0   \n",
      "5206     16     0      0      0    0    0   0    0    2   51  58.25  123.0   \n",
      "5207     14     1      1      8    1    0   0    0    1   36  68.25  164.0   \n",
      "5208     16     0      0      0    0    0   0    0    1   36  70.50  177.0   \n",
      "\n",
      "        sc1    sc2  dbp  sbp    mrw  smoke  \n",
      "0       NaN    NaN   78  124  121.0    0.0  \n",
      "1       NaN  181.0   92  144  183.0    0.0  \n",
      "2       NaN  250.0   90  170  114.0   10.0  \n",
      "3       NaN  242.0   80  128  123.0    0.0  \n",
      "4       NaN  281.0   76  110  116.0   20.0  \n",
      "...     ...    ...  ...  ...    ...    ...  \n",
      "5204  218.0  228.0   80  110  135.0   20.0  \n",
      "5205  210.0  209.0   76  124  129.0    5.0  \n",
      "5206  199.0  197.0   90  152  119.0    1.0  \n",
      "5207  232.0  238.0   64  108  114.0   40.0  \n",
      "5208  235.0  240.0   68   94  116.0   50.0  \n",
      "\n",
      "[5209 rows x 18 columns]\n"
     ]
    }
   ],
   "source": [
    "#sets directory to access csv file\n",
    "__file__ = 'data-cleaning.ipynb'\n",
    "path = os.path.realpath(__file__)\n",
    "dir = os.path.dirname(path)\n",
    "dir = dir.replace('src', 'data')\n",
    "os.chdir(dir)"
   ]
  },
  {
   "cell_type": "code",
   "execution_count": 31,
   "metadata": {},
   "outputs": [
    {
     "data": {
      "text/plain": [
       "lexam       0\n",
       "surv        0\n",
       "cause       0\n",
       "cexam       0\n",
       "chd         0\n",
       "cva         0\n",
       "ca          0\n",
       "oth         0\n",
       "sex         0\n",
       "age         0\n",
       "ht          6\n",
       "wt          6\n",
       "sc1      2037\n",
       "sc2       626\n",
       "dbp         0\n",
       "sbp         0\n",
       "mrw         6\n",
       "smoke      36\n",
       "dtype: int64"
      ]
     },
     "execution_count": 31,
     "metadata": {},
     "output_type": "execute_result"
    }
   ],
   "source": [
    "df = pd.read_csv('framingham.csv')\n",
    "row, col = df.shape\n",
    "df.isnull().sum(axis = 0)"
   ]
  }
 ],
 "metadata": {
  "kernelspec": {
   "display_name": "Python 3",
   "language": "python",
   "name": "python3"
  },
  "language_info": {
   "codemirror_mode": {
    "name": "ipython",
    "version": 3
   },
   "file_extension": ".py",
   "mimetype": "text/x-python",
   "name": "python",
   "nbconvert_exporter": "python",
   "pygments_lexer": "ipython3",
   "version": "3.10.10"
  },
  "orig_nbformat": 4
 },
 "nbformat": 4,
 "nbformat_minor": 2
}
