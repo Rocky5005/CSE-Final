{
 "cells": [
  {
   "cell_type": "code",
   "execution_count": 1,
   "metadata": {},
   "outputs": [],
   "source": [
    "from main import file_locate\n",
    "from ml_models import logistic_regression\n",
    "from mlmodels import naive_bayes\n",
    "from mlmodels import k_nearest\n",
    "from mlmodels import support_vector\n",
    "from mlmodels import gradient_boost\n",
    "from mlmodels import random_forest\n",
    "from sklearn.metrics import roc_curve, roc_auc_score\n",
    "import matplotlib.pyplot as plt\n",
    "from sklearn.metrics import confusion_matrix\n",
    "from sklearn.metrics import accuracy_score, classification_report\n",
    "from sklearn.metrics import precision_score, recall_score, f1_score"
   ]
  },
  {
   "cell_type": "code",
   "execution_count": 2,
   "metadata": {},
   "outputs": [],
   "source": [
    "def analysis(labels_test, labels_pred):\n",
    "    cm = confusion_matrix(labels_test, labels_pred)\n",
    "    print(cm)\n",
    "    accuracy = accuracy_score(labels_test, labels_pred)\n",
    "    print(\"Accuracy: \", accuracy)\n",
    "    report = classification_report(labels_test, labels_pred)\n",
    "    print(\"Classification Report:\")\n",
    "    print(report)"
   ]
  },
  {
   "cell_type": "code",
   "execution_count": 3,
   "metadata": {},
   "outputs": [],
   "source": [
    "def auc(labels_test, labels_pred):\n",
    "    fpr, tpr, thresholds = roc_curve(labels_test, labels_pred)\n",
    "    auc = roc_auc_score(labels_test, labels_pred)\n",
    "\n",
    "    plt.plot(fpr, tpr, label='ROC Curve (AUC = {:.2f})'.format(auc))\n",
    "    plt.plot([0, 1], [0, 1], 'k--', label='Random')\n",
    "    plt.xlabel('False Positive Rate (FPR)')\n",
    "    plt.ylabel('True Positive Rate (TPR)')\n",
    "    plt.title('Receiver Operating Characteristic (ROC)')\n",
    "    plt.legend(loc='lower right')\n",
    "    plt.show()"
   ]
  },
  {
   "cell_type": "code",
   "execution_count": 4,
   "metadata": {},
   "outputs": [],
   "source": [
    "file_locate('ml-analysis.ipynb')\n",
    "filename = 'cleaned-framingham.csv'"
   ]
  },
  {
   "cell_type": "code",
   "execution_count": 5,
   "metadata": {},
   "outputs": [
    {
     "name": "stdout",
     "output_type": "stream",
     "text": [
      "Logistic Regression\n",
      "Best threshold 0.2\n",
      "[[2461   19]\n",
      " [ 412   34]]\n",
      "Accuracy:  0.8526999316473001\n",
      "Classification Report:\n",
      "              precision    recall  f1-score   support\n",
      "\n",
      "           0       0.86      0.99      0.92      2480\n",
      "           1       0.64      0.08      0.14       446\n",
      "\n",
      "    accuracy                           0.85      2926\n",
      "   macro avg       0.75      0.53      0.53      2926\n",
      "weighted avg       0.82      0.85      0.80      2926\n",
      "\n",
      "[[490 131]\n",
      " [ 57  54]]\n",
      "Accuracy:  0.7431693989071039\n",
      "Classification Report:\n",
      "              precision    recall  f1-score   support\n",
      "\n",
      "           0       0.90      0.79      0.84       621\n",
      "           1       0.29      0.49      0.36       111\n",
      "\n",
      "    accuracy                           0.74       732\n",
      "   macro avg       0.59      0.64      0.60       732\n",
      "weighted avg       0.80      0.74      0.77       732\n",
      "\n"
     ]
    },
    {
     "data": {
      "image/png": "[encoded data removed]",
      "text/plain": [
       "<Figure size 640x480 with 1 Axes>"
      ]
     },
     "metadata": {},
     "output_type": "display_data"
    }
   ],
   "source": [
    "labels_train, labels_train_pred, labels_test, labels_pred = logistic_regression.logistic_regression(filename)\n",
    "\n",
    "analysis(labels_train, labels_train_pred)\n",
    "analysis(labels_test, labels_pred)\n"
   ]
  },
  {
   "cell_type": "code",
   "execution_count": 6,
   "metadata": {},
   "outputs": [
    {
     "name": "stdout",
     "output_type": "stream",
     "text": [
      "Naive Bayes:\n",
      "[[614   7]\n",
      " [104   7]]\n",
      "Accuracy:  0.8483606557377049\n",
      "Classification Report:\n",
      "              precision    recall  f1-score   support\n",
      "\n",
      "           0       0.86      0.99      0.92       621\n",
      "           1       0.50      0.06      0.11       111\n",
      "\n",
      "    accuracy                           0.85       732\n",
      "   macro avg       0.68      0.53      0.51       732\n",
      "weighted avg       0.80      0.85      0.80       732\n",
      "\n"
     ]
    }
   ],
   "source": [
    "naive_bayes(filename)"
   ]
  },
  {
   "cell_type": "code",
   "execution_count": 7,
   "metadata": {},
   "outputs": [
    {
     "name": "stdout",
     "output_type": "stream",
     "text": [
      "K-Nearest Neighbors:\n",
      "[[590  31]\n",
      " [ 93  18]]\n",
      "Accuracy:  0.8306010928961749\n",
      "Classification Report:\n",
      "              precision    recall  f1-score   support\n",
      "\n",
      "           0       0.86      0.95      0.90       621\n",
      "           1       0.37      0.16      0.22       111\n",
      "\n",
      "    accuracy                           0.83       732\n",
      "   macro avg       0.62      0.56      0.56       732\n",
      "weighted avg       0.79      0.83      0.80       732\n",
      "\n"
     ]
    }
   ],
   "source": [
    "k_nearest(filename)"
   ]
  },
  {
   "cell_type": "code",
   "execution_count": 8,
   "metadata": {},
   "outputs": [
    {
     "name": "stdout",
     "output_type": "stream",
     "text": [
      "XGBoost: \n",
      "[[586  35]\n",
      " [ 98  13]]\n",
      "Accuracy:  0.8183060109289617\n",
      "Classification Report:\n",
      "              precision    recall  f1-score   support\n",
      "\n",
      "           0       0.86      0.94      0.90       621\n",
      "           1       0.27      0.12      0.16       111\n",
      "\n",
      "    accuracy                           0.82       732\n",
      "   macro avg       0.56      0.53      0.53       732\n",
      "weighted avg       0.77      0.82      0.79       732\n",
      "\n"
     ]
    }
   ],
   "source": [
    "gradient_boost(filename)"
   ]
  },
  {
   "cell_type": "code",
   "execution_count": 9,
   "metadata": {},
   "outputs": [
    {
     "name": "stdout",
     "output_type": "stream",
     "text": [
      "Random Forest\n",
      "[[611  10]\n",
      " [103   8]]\n",
      "Accuracy:  0.8456284153005464\n",
      "Classification Report:\n",
      "              precision    recall  f1-score   support\n",
      "\n",
      "           0       0.86      0.98      0.92       621\n",
      "           1       0.44      0.07      0.12       111\n",
      "\n",
      "    accuracy                           0.85       732\n",
      "   macro avg       0.65      0.53      0.52       732\n",
      "weighted avg       0.79      0.85      0.80       732\n",
      "\n"
     ]
    }
   ],
   "source": [
    "random_forest(filename)"
   ]
  }
 ],
 "metadata": {
  "kernelspec": {
   "display_name": "base",
   "language": "python",
   "name": "python3"
  },
  "language_info": {
   "codemirror_mode": {
    "name": "ipython",
    "version": 3
   },
   "file_extension": ".py",
   "mimetype": "text/x-python",
   "name": "python",
   "nbconvert_exporter": "python",
   "pygments_lexer": "ipython3",
   "version": "3.10.10"
  },
  "orig_nbformat": 4
 },
 "nbformat": 4,
 "nbformat_minor": 2
}
