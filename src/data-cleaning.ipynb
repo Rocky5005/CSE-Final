{
 "cells": [
  {
   "cell_type": "code",
   "execution_count": null,
   "metadata": {},
   "outputs": [],
   "source": [
    "#import statements\n",
    "import numpy as np\n",
    "import matplotlib.pyplot as plt\n",
    "import pandas as pd\n",
    "import os\n",
    "import sys\n",
    "import missingno as msno"
   ]
  },
  {
   "cell_type": "code",
   "execution_count": null,
   "metadata": {},
   "outputs": [],
   "source": [
    "#sets directory to access csv file\n",
    "__file__ = 'data-cleaning.ipynb'\n",
    "path = os.path.realpath(__file__)\n",
    "dir = os.path.dirname(path)\n",
    "dir = dir.replace('src', 'data')\n",
    "os.chdir(dir)"
   ]
  },
  {
   "cell_type": "code",
   "execution_count": null,
   "metadata": {},
   "outputs": [],
   "source": [
    "df = pd.read_csv('mit-framingham.csv') #This looks like the best dataset\n",
    "df.info()\n",
    "print(df.isnull().mean().round(4).mul(100))"
   ]
  },
  {
   "cell_type": "code",
   "execution_count": null,
   "metadata": {},
   "outputs": [],
   "source": [
    "df_null = df[df.isna().any(axis = 1)]\n",
    "df_null.info()\n",
    "df.hist(layout = (4,4))\n",
    "df_null.hist(layout=(4,4)) #missing data seems to have same distribution as rest of data\n",
    "#cannot confirm without statistical tests\n",
    "#small amount so ok to drop data instead of imputing"
   ]
  },
  {
   "cell_type": "code",
   "execution_count": null,
   "metadata": {},
   "outputs": [],
   "source": [
    "df = df.dropna() #drop all null values\n",
    "df = df.drop('education', axis = 1)#remove education column\n",
    "df.drop_duplicates(subset=None, inplace=True) #drops any potential duplicates\n",
    "df.describe()"
   ]
  },
  {
   "cell_type": "code",
   "execution_count": null,
   "metadata": {},
   "outputs": [],
   "source": [
    "#todo\n",
    "#standardize data for some models - so measurements are on similar scale\n",
    "#try making models using outlier and without outliers\n",
    "#resolve imbalanced data"
   ]
  }
 ],
 "metadata": {
  "kernelspec": {
   "display_name": "Python 3",
   "language": "python",
   "name": "python3"
  },
  "language_info": {
   "codemirror_mode": {
    "name": "ipython",
    "version": 3
   },
   "file_extension": ".py",
   "mimetype": "text/x-python",
   "name": "python",
   "nbconvert_exporter": "python",
   "pygments_lexer": "ipython3",
   "version": "3.10.10"
  },
  "orig_nbformat": 4
 },
 "nbformat": 4,
 "nbformat_minor": 2
}
